{
 "cells": [
  {
   "cell_type": "markdown",
   "id": "7bf63dad-f4c2-4c38-8152-c1d1527c601d",
   "metadata": {},
   "source": [
    "Input data"
   ]
  },
  {
   "cell_type": "code",
   "execution_count": null,
   "id": "e8ef09c7-2950-4ad2-8b86-ffe94a831e61",
   "metadata": {},
   "outputs": [],
   "source": [
    "# Define input and output folders\n",
    "input_folder = r\"D:\\River connectivity\\Whole Danube Reach in Hungary\\Historical Danube-Reprojected\\clipped river centerline-segmnets-hymo segmnets-historical\"\n",
    "output_filtered_folder = r\"D:\\River connectivity\\Whole Danube Reach in Hungary\\Historical Danube-Reprojected\\clipped river centerline-segmnets-hymo segmnets-historical\\filtered for graph metrcis calculations- hymo-historical\""
   ]
  },
  {
   "cell_type": "markdown",
   "id": "cb45509b-15f4-46f2-9e3c-fc184d8c8bc8",
   "metadata": {},
   "source": [
    "Processing code"
   ]
  },
  {
   "cell_type": "code",
   "execution_count": null,
   "id": "652e5407-7d2d-4b1e-8ba6-0d2db31624c0",
   "metadata": {},
   "outputs": [],
   "source": [
    "import os\n",
    "import geopandas as gpd\n",
    "import networkx as nx\n",
    "from shapely.geometry import LineString, MultiLineString\n",
    "from shapely.ops import linemerge, unary_union\n",
    "\n",
    "os.makedirs(output_filtered_folder, exist_ok=True)\n",
    "\n",
    "def process_and_filter_shapefile(file_path, output_folder):\n",
    "    # Read the shapefile\n",
    "    gdf = gpd.read_file(file_path)\n",
    "    \n",
    "    # Merge line segments\n",
    "    merged_lines = linemerge(unary_union(gdf.geometry))\n",
    "    \n",
    "    # Ensure consistency for single and multi-line geometries\n",
    "    if isinstance(merged_lines, LineString):\n",
    "        merged_lines = [merged_lines]\n",
    "    elif isinstance(merged_lines, MultiLineString):\n",
    "        merged_lines = list(merged_lines.geoms)\n",
    "    \n",
    "    # Create a new GeoDataFrame with each polyline as an individual feature\n",
    "    sectioned_gdf = gpd.GeoDataFrame(geometry=merged_lines, crs=gdf.crs)\n",
    "    \n",
    "    # Create a graph from the line geometries\n",
    "    G = nx.Graph()\n",
    "    for idx, row in sectioned_gdf.iterrows():\n",
    "        geom = row.geometry\n",
    "        if geom.geom_type == 'LineString':\n",
    "            G.add_edge(geom.coords[0], geom.coords[-1], index=idx)\n",
    "        elif geom.geom_type == 'MultiLineString':\n",
    "            for line in geom.geoms:\n",
    "                G.add_edge(line.coords[0], line.coords[-1], index=idx)\n",
    "    \n",
    "    # Get the largest connected component\n",
    "    largest_cc = max(nx.connected_components(G), key=len)\n",
    "    G_mainstem = G.subgraph(largest_cc).copy()\n",
    "    \n",
    "    # Filter edges that are in the largest connected component\n",
    "    mainstem_indexes = [data['index'] for u, v, data in G_mainstem.edges(data=True)]\n",
    "    mainstem_gdf = sectioned_gdf.loc[mainstem_indexes]\n",
    "    \n",
    "    # Define the output path and save the filtered shapefile\n",
    "    output_path = os.path.join(output_folder, f\"filtered_{os.path.basename(file_path)}\")\n",
    "    mainstem_gdf.to_file(output_path)\n",
    "    print(f\"Exported filtered shapefile to {output_path}\")\n",
    "\n",
    "# Process each shapefile in the folder\n",
    "for filename in os.listdir(input_folder):\n",
    "    if filename.endswith(\".shp\"):\n",
    "        shapefile_path = os.path.join(input_folder, filename)\n",
    "        process_and_filter_shapefile(shapefile_path, output_filtered_folder)\n",
    "\n",
    "print(\"Completed processing and exporting filtered shapefiles.\")"
   ]
  }
 ],
 "metadata": {
  "kernelspec": {
   "display_name": "Python 3 (ipykernel)",
   "language": "python",
   "name": "python3"
  },
  "language_info": {
   "codemirror_mode": {
    "name": "ipython",
    "version": 3
   },
   "file_extension": ".py",
   "mimetype": "text/x-python",
   "name": "python",
   "nbconvert_exporter": "python",
   "pygments_lexer": "ipython3",
   "version": "3.12.3"
  }
 },
 "nbformat": 4,
 "nbformat_minor": 5
}
