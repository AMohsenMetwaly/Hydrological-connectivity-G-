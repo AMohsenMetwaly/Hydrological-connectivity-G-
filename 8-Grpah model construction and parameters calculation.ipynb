{
 "cells": [
  {
   "cell_type": "markdown",
   "id": "cbc977f5-a006-4a41-a1d5-f8cc1c821366",
   "metadata": {},
   "source": [
    "Input data"
   ]
  },
  {
   "cell_type": "code",
   "execution_count": null,
   "id": "27538f6d-3e80-4b81-8298-c5d1eabd94d3",
   "metadata": {},
   "outputs": [],
   "source": [
    "# Define paths\n",
    "input_folder = r\"D:\\River connectivity\\Whole Danube Reach in Hungary\\Historical Danube-Reprojected\\Graph theory calculations\\output-graph model\"\n",
    "excel_output = r\"D:\\River connectivity\\Whole Danube Reach in Hungary\\xlsx\\graph_metrics_historical danube.xlsx\""
   ]
  },
  {
   "cell_type": "markdown",
   "id": "dcbd2abf-3c95-4908-9f0f-910925b4e485",
   "metadata": {},
   "source": [
    "Processing code"
   ]
  },
  {
   "cell_type": "code",
   "execution_count": null,
   "id": "678b4a54-ac7b-4433-9b35-c7a8d387481f",
   "metadata": {},
   "outputs": [],
   "source": [
    "import os\n",
    "import re\n",
    "import geopandas as gpd\n",
    "import networkx as nx\n",
    "import pandas as pd\n",
    "from shapely.geometry import Point\n",
    "\n",
    "# Regular expression pattern to extract the date from the filename\n",
    "date_pattern = r\"\\d{4}-\\d{2}-\\d{2}\"\n",
    "\n",
    "# Initialize list to store results\n",
    "results = []\n",
    "\n",
    "# Function to create nodes at intersections\n",
    "def create_intersection_nodes(edges_gdf):\n",
    "    nodes = set()\n",
    "    for i, line1 in enumerate(edges_gdf.geometry):\n",
    "        for j, line2 in enumerate(edges_gdf.geometry):\n",
    "            if i >= j:\n",
    "                continue\n",
    "            intersection = line1.intersection(line2)\n",
    "            if intersection.is_empty:\n",
    "                continue\n",
    "            if intersection.geom_type == 'Point':\n",
    "                nodes.add(intersection)\n",
    "            elif intersection.geom_type == 'MultiPoint':\n",
    "                for point in intersection.geoms:\n",
    "                    nodes.add(point)\n",
    "    # Convert nodes set to GeoDataFrame\n",
    "    return gpd.GeoDataFrame(geometry=list(nodes), crs=edges_gdf.crs)\n",
    "\n",
    "# Process each shapefile in the folder\n",
    "for filename in os.listdir(input_folder):\n",
    "    if filename.endswith(\".shp\"):\n",
    "        # Extract the date from the filename\n",
    "        date_match = re.search(date_pattern, filename)\n",
    "        if not date_match:\n",
    "            continue  # Skip files without a date\n",
    "        date_str = date_match.group(0)\n",
    "\n",
    "        # Load the shapefile\n",
    "        edges_gdf = gpd.read_file(os.path.join(input_folder, filename))\n",
    "        edges_gdf = edges_gdf.to_crs(epsg=32634)  # Ensure CRS is projected for distance calculations\n",
    "\n",
    "        # Create intersection nodes\n",
    "        nodes_gdf = create_intersection_nodes(edges_gdf)\n",
    "        \n",
    "        # Create a graph\n",
    "        G = nx.Graph()\n",
    "        for idx, row in nodes_gdf.iterrows():\n",
    "            G.add_node(idx, pos=(row.geometry.x, row.geometry.y))\n",
    "        \n",
    "        # Add edges to the graph\n",
    "        for idx, row in edges_gdf.iterrows():\n",
    "            start_point, end_point = row.geometry.coords[0], row.geometry.coords[-1]\n",
    "            start_node = nodes_gdf.distance(Point(start_point)).idxmin()\n",
    "            end_node = nodes_gdf.distance(Point(end_point)).idxmin()\n",
    "            if start_node != end_node:\n",
    "                G.add_edge(start_node, end_node)\n",
    "\n",
    "        # Calculate graph-theoretic metrics\n",
    "        alpha = nx.edge_connectivity(G)\n",
    "        avg_shortest_path = nx.average_shortest_path_length(G) if nx.is_connected(G) else None\n",
    "        diameter = nx.diameter(G) if nx.is_connected(G) else None\n",
    "        fiedler_value = nx.algebraic_connectivity(G) if nx.is_connected(G) else None\n",
    "        assortativity = nx.degree_assortativity_coefficient(G)\n",
    "        density = nx.density(G)\n",
    "\n",
    "        # Store the results in a dictionary\n",
    "        results.append({\n",
    "            \"Date\": date_str,\n",
    "            \"Alpha\": alpha,\n",
    "            \"Average Shortest Path\": avg_shortest_path,\n",
    "            \"Diameter\": diameter,\n",
    "            \"Fiedler Value\": fiedler_value,\n",
    "            \"Assortativity\": assortativity,\n",
    "            \"Density\": density\n",
    "        })\n",
    "\n",
    "# Convert results to DataFrame and export to Excel\n",
    "df = pd.DataFrame(results)\n",
    "df.to_excel(excel_output, index=False)\n",
    "print(f\"Graph metrics exported to {excel_output}\")\n"
   ]
  }
 ],
 "metadata": {
  "kernelspec": {
   "display_name": "Python 3 (ipykernel)",
   "language": "python",
   "name": "python3"
  },
  "language_info": {
   "codemirror_mode": {
    "name": "ipython",
    "version": 3
   },
   "file_extension": ".py",
   "mimetype": "text/x-python",
   "name": "python",
   "nbconvert_exporter": "python",
   "pygments_lexer": "ipython3",
   "version": "3.12.3"
  }
 },
 "nbformat": 4,
 "nbformat_minor": 5
}
