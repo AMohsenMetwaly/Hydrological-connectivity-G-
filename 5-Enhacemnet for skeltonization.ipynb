{
 "cells": [
  {
   "cell_type": "markdown",
   "id": "bc17002d-47a7-4c5f-adb7-f3c394d8d221",
   "metadata": {},
   "source": [
    "Input data"
   ]
  },
  {
   "cell_type": "code",
   "execution_count": null,
   "id": "8a21e36e-462d-4086-b2b2-8dcb6a39262d",
   "metadata": {},
   "outputs": [],
   "source": [
    "# Input and output folders\n",
    "input_folder = r\"D:\\River connectivity\\Whole Danube Reach in Hungary\\Water mask output\\clear mask-use this\"  # original water masks path \n",
    "output_folder = \"D:/River connectivity/Whole Danube Reach in Hungary/pre-processing-watermask-input for qgis-CL extraction\"  # enhanced water mask path \n",
    "prefix = \"enhanced_\"\n",
    "# the kernal sizes of smoothing and filling gaps in steps 2, optinal and 3 can be finetuned  "
   ]
  },
  {
   "cell_type": "markdown",
   "id": "4643f0de-c50b-4fd9-81ee-5341b95bb007",
   "metadata": {},
   "source": [
    "Processing code"
   ]
  },
  {
   "cell_type": "code",
   "execution_count": null,
   "id": "b006fca5-b259-47f0-a78a-aaa0d2041943",
   "metadata": {},
   "outputs": [],
   "source": [
    "import os\n",
    "import rasterio\n",
    "import numpy as np\n",
    "import cv2\n",
    "from scipy.ndimage import binary_fill_holes, binary_closing\n",
    "\n",
    "# Ensure the output directory exists\n",
    "os.makedirs(output_folder, exist_ok=True)\n",
    "\n",
    "# Process each tif file in the input folder\n",
    "for file_name in os.listdir(input_folder):\n",
    "    if file_name.endswith(\".tif\"):\n",
    "        input_path = os.path.join(input_folder, file_name)\n",
    "        output_path = os.path.join(output_folder, prefix + file_name)\n",
    "        \n",
    "        # Load water mask from the tif image\n",
    "        with rasterio.open(input_path) as src:\n",
    "            water_mask = src.read(1)  # Read the first band\n",
    "            output_meta = src.meta.copy()\n",
    "\n",
    "        # Convert to binary mask (assuming water is non-zero and background is zero)\n",
    "        binary_mask = (water_mask > 0).astype(np.uint8)\n",
    "\n",
    "        # 1. Fill holes caused by ships or small islands\n",
    "        filled_mask = binary_fill_holes(binary_mask)\n",
    "\n",
    "        # 2. Smooth the river edges\n",
    "        smoothing_kernel_size = 3\n",
    "        smoothing_kernel = np.ones((smoothing_kernel_size, smoothing_kernel_size), np.uint8)\n",
    "        smoothed_mask = cv2.morphologyEx(filled_mask.astype(np.uint8), cv2.MORPH_CLOSE, smoothing_kernel)\n",
    "\n",
    "        # Optional: Apply another dilation to smooth further if necessary\n",
    "        extra_smoothing_kernel_size = 3\n",
    "        extra_smoothing_kernel = np.ones((extra_smoothing_kernel_size, extra_smoothing_kernel_size), np.uint8)\n",
    "        smoothed_mask = cv2.dilate(smoothed_mask, extra_smoothing_kernel, iterations=1)\n",
    "\n",
    "        # 3. Fill gaps\n",
    "        gap_filling_kernel_size = 7\n",
    "        gap_filling_kernel = np.ones((gap_filling_kernel_size, gap_filling_kernel_size), np.uint8)\n",
    "        filled_gaps_mask = binary_closing(smoothed_mask, structure=gap_filling_kernel)\n",
    "\n",
    "        # 4. Ensure we don't break existing river structure\n",
    "        final_mask = np.logical_or(binary_mask, filled_gaps_mask).astype(np.uint8)\n",
    "\n",
    "        # Save the processed water mask with updated metadata\n",
    "        output_meta.update({\"dtype\": 'uint8'})\n",
    "        with rasterio.open(output_path, 'w', **output_meta) as dst:\n",
    "            dst.write(final_mask, 1)\n",
    "\n",
    "        print(f\"Processing complete. Processed water mask saved as '{output_path}'.\")\n"
   ]
  },
  {
   "cell_type": "code",
   "execution_count": null,
   "id": "2fb007ef-def8-4b16-86b0-b10d1460fcad",
   "metadata": {},
   "outputs": [],
   "source": []
  }
 ],
 "metadata": {
  "kernelspec": {
   "display_name": "Python 3 (ipykernel)",
   "language": "python",
   "name": "python3"
  },
  "language_info": {
   "codemirror_mode": {
    "name": "ipython",
    "version": 3
   },
   "file_extension": ".py",
   "mimetype": "text/x-python",
   "name": "python",
   "nbconvert_exporter": "python",
   "pygments_lexer": "ipython3",
   "version": "3.12.3"
  }
 },
 "nbformat": 4,
 "nbformat_minor": 5
}
