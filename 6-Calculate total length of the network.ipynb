{
 "cells": [
  {
   "cell_type": "markdown",
   "id": "16da1908-7ec9-409f-808f-4c4798a36416",
   "metadata": {},
   "source": [
    "Input data"
   ]
  },
  {
   "cell_type": "code",
   "execution_count": null,
   "id": "7ae6d531-6b31-42e8-baae-bed40fcf3f09",
   "metadata": {},
   "outputs": [],
   "source": [
    "# Directory containing the shapefiles and output xlsx file\n",
    "shapefile_dir = r\"D:\\River connectivity\\Whole Danube Reach in Hungary\\Center lines-output from lee skeltonization\" \n",
    "output_file = r\"D:\\River connectivity\\Whole Danube Reach in Hungary\\xlsx\\River_length.xlsx\""
   ]
  },
  {
   "cell_type": "markdown",
   "id": "7275dbb7-0fea-425c-b7dc-da0291565d85",
   "metadata": {},
   "source": [
    "Processing code"
   ]
  },
  {
   "cell_type": "code",
   "execution_count": null,
   "id": "da0123b3-8314-4ea5-8606-1596f4894717",
   "metadata": {},
   "outputs": [],
   "source": [
    "import geopandas as gpd\n",
    "import pandas as pd\n",
    "import os\n",
    "from datetime import datetime\n",
    "\n",
    "# Define the target CRS (WGS 84 / UTM zone 34N)\n",
    "target_crs = \"EPSG:32634\"\n",
    "\n",
    "# Prepare a list to store the data\n",
    "data = []\n",
    "\n",
    "# Iterate over each shapefile in the directory\n",
    "for filename in os.listdir(shapefile_dir):\n",
    "    if filename.endswith('.shp'):\n",
    "        # Extract date from filename\n",
    "        try:\n",
    "            # Adjusted to extract the date from filenames with prefix\n",
    "            date_str = filename.split('_')[-1].split('.')[0]  # Extract date part only\n",
    "            date = datetime.strptime(date_str, '%Y-%m-%d').date()\n",
    "        except ValueError:\n",
    "            print(f\"Skipping file {filename} as it doesn't match the date format\")\n",
    "            continue\n",
    "        \n",
    "        # Load the shapefile\n",
    "        file_path = os.path.join(shapefile_dir, filename)\n",
    "        gdf = gpd.read_file(file_path)\n",
    "        \n",
    "        # Convert CRS to WGS 84 / UTM zone 34N\n",
    "        gdf = gdf.to_crs(target_crs)\n",
    "        \n",
    "        # Calculate the total length of the river network in meters\n",
    "        total_length = gdf.length.sum()\n",
    "        \n",
    "        # Append data to list\n",
    "        data.append([date, total_length])\n",
    "\n",
    "# Create a DataFrame and save it to Excel\n",
    "df = pd.DataFrame(data, columns=['Date', 'Total_Length_m'])\n",
    "df.to_excel(output_file, index=False)\n",
    "\n",
    "print(f\"Results saved to {output_file}\")\n"
   ]
  }
 ],
 "metadata": {
  "kernelspec": {
   "display_name": "Python 3 (ipykernel)",
   "language": "python",
   "name": "python3"
  },
  "language_info": {
   "codemirror_mode": {
    "name": "ipython",
    "version": 3
   },
   "file_extension": ".py",
   "mimetype": "text/x-python",
   "name": "python",
   "nbconvert_exporter": "python",
   "pygments_lexer": "ipython3",
   "version": "3.12.3"
  }
 },
 "nbformat": 4,
 "nbformat_minor": 5
}
