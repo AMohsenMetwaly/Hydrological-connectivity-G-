{
 "cells": [
  {
   "cell_type": "markdown",
   "id": "b652c3a9-979c-43e9-86db-ab5e78ae52ea",
   "metadata": {},
   "source": [
    "Input data"
   ]
  },
  {
   "cell_type": "code",
   "execution_count": null,
   "id": "bc7f98f0-1da6-4a56-9149-6b59dfdad909",
   "metadata": {},
   "outputs": [],
   "source": [
    "# Input and output paths\n",
    "input_folder = r\"D:\\River connectivity\\Whole Danube Reach in Hungary\\Water mask output\\Clipped masks by hymo segmnets\" # path of tif water mask folder\n",
    "output_file = r\"D:\\River connectivity\\Whole Danube Reach in Hungary\\xlsx\\water area hymo segmnets.xlsx\" # path of resulted xlsx file "
   ]
  },
  {
   "cell_type": "code",
   "execution_count": null,
   "id": "ec48a34b-d441-47f6-933d-309ea4817ca6",
   "metadata": {},
   "outputs": [],
   "source": [
    "import os\n",
    "import re\n",
    "import rasterio\n",
    "import numpy as np\n",
    "import pandas as pd\n",
    "\n",
    "# Initialize an empty list to store the results\n",
    "data = []\n",
    "\n",
    "# Regular expression to extract date from the file name (adjust the pattern based on your filename format)\n",
    "date_pattern = re.compile(r\"\\d{4}-\\d{2}-\\d{2}\")\n",
    "\n",
    "# Iterate over each TIFF file in the input folder\n",
    "for file_name in os.listdir(input_folder):\n",
    "    if file_name.endswith(\".tif\"):\n",
    "        file_path = os.path.join(input_folder, file_name)\n",
    "        \n",
    "        # Extract date from the file name\n",
    "        match = date_pattern.search(file_name)\n",
    "        if match:\n",
    "            date = match.group(0)\n",
    "        else:\n",
    "            print(f\"Date not found in filename: {file_name}\")\n",
    "            continue\n",
    "\n",
    "        # Open the TIFF file and read the data\n",
    "        with rasterio.open(file_path) as src:\n",
    "            water_mask = src.read(1)\n",
    "\n",
    "        # Count water pixels (assuming water is represented by non-zero values)\n",
    "        water_pixel_count = np.sum(water_mask > 0)  # Count pixels where water_mask > 0\n",
    "\n",
    "        # Append the date and calculated pixel count to the data list\n",
    "        data.append([date, water_pixel_count])\n",
    "\n",
    "# Convert the data to a DataFrame and save to an Excel file\n",
    "df = pd.DataFrame(data, columns=[\"Date\", \"Water Pixel Count\"])\n",
    "df.to_excel(output_file, index=False)\n",
    "\n",
    "print(f\"Water pixel count data has been saved to {output_file}\")\n"
   ]
  }
 ],
 "metadata": {
  "kernelspec": {
   "display_name": "Python 3 (ipykernel)",
   "language": "python",
   "name": "python3"
  },
  "language_info": {
   "codemirror_mode": {
    "name": "ipython",
    "version": 3
   },
   "file_extension": ".py",
   "mimetype": "text/x-python",
   "name": "python",
   "nbconvert_exporter": "python",
   "pygments_lexer": "ipython3",
   "version": "3.12.3"
  }
 },
 "nbformat": 4,
 "nbformat_minor": 5
}
