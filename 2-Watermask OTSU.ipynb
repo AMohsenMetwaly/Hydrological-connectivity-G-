{
 "cells": [
  {
   "cell_type": "markdown",
   "id": "3ffb57b2-f8fa-45ce-8161-02a92879150a",
   "metadata": {},
   "source": [
    "Input data"
   ]
  },
  {
   "cell_type": "code",
   "execution_count": null,
   "id": "c46d14fd-6015-45aa-87c1-a510f2e59d35",
   "metadata": {},
   "outputs": [],
   "source": [
    "# Specify the input folder containing NDWI GeoTIFF files and the output folder\n",
    "input_folder = r\"D:\\River connectivity\\Whole Danube Reach in Hungary\\NDWI input\\clear_NDWI\"\n",
    "output_folder = r\"D:\\River connectivity\\Whole Danube Reach in Hungary\\Water mask output\\clear mask\"\n",
    "\n",
    "#The block size and offset can be fine tuned to achive the best results. It should be changed the following code at all lines"
   ]
  },
  {
   "cell_type": "markdown",
   "id": "59cd0fa2-0fd0-4703-ad33-8536b1865b8f",
   "metadata": {},
   "source": [
    "Processing code"
   ]
  },
  {
   "cell_type": "code",
   "execution_count": null,
   "id": "436063d8-12e6-4f41-92bf-a48ee0121d7d",
   "metadata": {},
   "outputs": [],
   "source": [
    "import os\n",
    "import rasterio\n",
    "import numpy as np\n",
    "from skimage.filters import threshold_local\n",
    "\n",
    "# Function to read the NDWI GeoTIFF image\n",
    "def read_ndwi_image(image_path):\n",
    "    with rasterio.open(image_path) as src:\n",
    "        ndwi = src.read(1)  # Reading the first band (assume NDWI is in a single band)\n",
    "        profile = src.profile  # Get the image metadata/profile\n",
    "        ndwi[ndwi == src.nodata] = np.nan  # Replace NoData values with NaN\n",
    "    return ndwi, profile\n",
    "\n",
    "# Function to handle NaN values (replace them with a valid number)\n",
    "def handle_nan_values(ndwi_image, fill_value=0):\n",
    "    ndwi_clean = np.nan_to_num(ndwi_image, nan=fill_value)  # Replace NaN with a fill value (e.g., 0)\n",
    "    return ndwi_clean\n",
    "\n",
    "# Function to apply only local thresholding\n",
    "def apply_local_threshold(ndwi_image, block_size=4999, offset=-0.09):\n",
    "    # Step 1: Clean the NDWI image by handling NaN values\n",
    "    ndwi_clean = handle_nan_values(ndwi_image)\n",
    "    \n",
    "    # Step 2: Normalize the NDWI image to the range 0-1\n",
    "    ndwi_normalized = (ndwi_clean - np.nanmin(ndwi_clean)) / (np.nanmax(ndwi_clean) - np.nanmin(ndwi_clean))\n",
    "    \n",
    "    # Step 3: Local thresholding\n",
    "    local_thresh = threshold_local(ndwi_normalized, block_size=block_size, offset=offset)\n",
    "    binary_local = ndwi_normalized > local_thresh\n",
    "    \n",
    "    return binary_local\n",
    "\n",
    "# Function to export the binary mask to a GeoTIFF\n",
    "def export_binary_mask(mask, profile, output_path):\n",
    "    # Update profile to match the binary mask data type (uint8)\n",
    "    profile.update(dtype=rasterio.uint8, count=1, nodata=0)\n",
    "    \n",
    "    with rasterio.open(output_path, 'w', **profile) as dst:\n",
    "        dst.write(mask.astype(rasterio.uint8), 1)  # Write the mask as uint8 (0 and 1)\n",
    "\n",
    "# Function to process all images in a folder\n",
    "def process_ndwi_folder(input_folder, output_folder, block_size=4999, offset=-0.09):\n",
    "    # Loop through all .tif files in the input folder\n",
    "    for filename in os.listdir(input_folder):\n",
    "        if filename.endswith('.tif'):\n",
    "            image_path = os.path.join(input_folder, filename)\n",
    "            print(f\"Processing: {filename}\")\n",
    "            \n",
    "            # Step 1: Read the NDWI image\n",
    "            ndwi_image, profile = read_ndwi_image(image_path)\n",
    "            \n",
    "            # Step 2: Apply only local thresholding\n",
    "            binary_local = apply_local_threshold(ndwi_image, block_size, offset)\n",
    "            \n",
    "            # Extract the date from the filename\n",
    "            date = filename.split('_')[1].split('.')[0]\n",
    "            \n",
    "            # Step 3: Export the local threshold mask to a GeoTIFF file\n",
    "            output_path_local = os.path.join(output_folder, f\"watermask_local_{date}.tif\")\n",
    "            export_binary_mask(binary_local, profile, output_path_local)\n",
    "            print(f\"Exported local Otsu water mask to: {output_path_local}\")\n",
    "\n",
    "\n",
    "\n",
    "# Ensure the output folder exists\n",
    "os.makedirs(output_folder, exist_ok=True)\n",
    "\n",
    "# Process all NDWI images in the folder and export water masks\n",
    "process_ndwi_folder(input_folder, output_folder, block_size=4999, offset=-0.09)\n",
    "\n",
    "print(\"Processing completed.\")\n"
   ]
  },
  {
   "cell_type": "code",
   "execution_count": null,
   "id": "b1350879-ff64-4ee4-9a13-9936c05b8afd",
   "metadata": {},
   "outputs": [],
   "source": []
  }
 ],
 "metadata": {
  "kernelspec": {
   "display_name": "Python 3 (ipykernel)",
   "language": "python",
   "name": "python3"
  },
  "language_info": {
   "codemirror_mode": {
    "name": "ipython",
    "version": 3
   },
   "file_extension": ".py",
   "mimetype": "text/x-python",
   "name": "python",
   "nbconvert_exporter": "python",
   "pygments_lexer": "ipython3",
   "version": "3.12.3"
  }
 },
 "nbformat": 4,
 "nbformat_minor": 5
}
