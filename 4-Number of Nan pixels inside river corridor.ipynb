{
 "cells": [
  {
   "cell_type": "markdown",
   "id": "de11b670-e83c-4e04-81d4-af56dfd3faca",
   "metadata": {},
   "source": [
    "Input data "
   ]
  },
  {
   "cell_type": "code",
   "execution_count": null,
   "id": "7a2a7009-6ba8-494b-9553-4b0a1f01cdeb",
   "metadata": {},
   "outputs": [],
   "source": [
    "# Define the paths\n",
    "ndwi_folder = r\"D:\\River connectivity\\Whole Danube Reach in Hungary\\NDWI input\\clear_NDWI\"  #water masks folder\n",
    "polygon_shapefile = r\"D:\\River connectivity\\Whole Danube Reach in Hungary\\Shp_Danube_in_Hungary.shp\"  #polygon of study area (e.g.. river corridoer)\n",
    "output_excel = r\"D:\\River connectivity\\Whole Danube Reach in Hungary\\xlsx\\nan pixels inside the corridor.xlsx\"   #path of output xlsx file"
   ]
  },
  {
   "cell_type": "code",
   "execution_count": null,
   "id": "25895d88-ac1d-4e80-972e-534f47f80800",
   "metadata": {},
   "outputs": [],
   "source": [
    "import os\n",
    "import rasterio\n",
    "import geopandas as gpd\n",
    "import pandas as pd\n",
    "from shapely.geometry import box\n",
    "\n",
    "# Load the polygon shapefile\n",
    "polygons = gpd.read_file(polygon_shapefile)\n",
    "\n",
    "# Initialize a list to store the results\n",
    "results = []\n",
    "\n",
    "# Loop through each NDWI file in the directory\n",
    "for filename in os.listdir(ndwi_folder):\n",
    "    if filename.endswith('.tif'):\n",
    "        ndwi_path = os.path.join(ndwi_folder, filename)\n",
    "\n",
    "        # Open the NDWI raster\n",
    "        with rasterio.open(ndwi_path) as src:\n",
    "            # Get the CRS of the NDWI raster\n",
    "            ndwi_crs = src.crs\n",
    "            \n",
    "            # Reproject polygons to match NDWI raster CRS\n",
    "            polygons_reprojected = polygons.to_crs(ndwi_crs)\n",
    "            \n",
    "            # Create a rectangle from raster bounds\n",
    "            raster_bounds = box(*src.bounds)  # Create a shapely box\n",
    "            raster_bounds_gdf = gpd.GeoSeries([raster_bounds], crs=ndwi_crs)  # Convert to GeoSeries\n",
    "\n",
    "            # Check if any polygon overlaps the raster\n",
    "            if polygons_reprojected.intersects(raster_bounds_gdf).any():\n",
    "                # Mask NDWI with polygon\n",
    "                out_image, out_transform = rasterio.mask.mask(src, polygons_reprojected.geometry, crop=True)\n",
    "\n",
    "                # Count total NaN values inside the polygon\n",
    "                nan_count = pd.isna(out_image).sum()  # Count NaN pixels\n",
    "\n",
    "                # Extract date from filename (adjust this based on your filename format)\n",
    "                date = filename.split('_')[1].split('.')[0]  # Assuming the format is like \"ndwi_2024-10-25.tif\"\n",
    "\n",
    "                # Append results\n",
    "                results.append({'Date': date, 'NaN Count': nan_count})\n",
    "            else:\n",
    "                print(f'No intersection for {filename}')\n",
    "\n",
    "# Create a DataFrame and export to Excel\n",
    "df = pd.DataFrame(results)\n",
    "df.to_excel(output_excel, index=False)\n",
    "\n",
    "print(f'Results exported to {output_excel}')\n"
   ]
  },
  {
   "cell_type": "code",
   "execution_count": null,
   "id": "9d676108-a7b8-45d8-aac8-0192f8ad6141",
   "metadata": {},
   "outputs": [],
   "source": []
  }
 ],
 "metadata": {
  "kernelspec": {
   "display_name": "Python 3 (ipykernel)",
   "language": "python",
   "name": "python3"
  },
  "language_info": {
   "codemirror_mode": {
    "name": "ipython",
    "version": 3
   },
   "file_extension": ".py",
   "mimetype": "text/x-python",
   "name": "python",
   "nbconvert_exporter": "python",
   "pygments_lexer": "ipython3",
   "version": "3.12.3"
  }
 },
 "nbformat": 4,
 "nbformat_minor": 5
}
